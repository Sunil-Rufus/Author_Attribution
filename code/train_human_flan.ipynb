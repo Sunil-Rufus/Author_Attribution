{
 "cells": [
  {
   "cell_type": "code",
   "execution_count": 1,
   "metadata": {},
   "outputs": [],
   "source": [
    "import torch\n",
    "import torch.nn as nn\n",
    "import torch.optim as optim\n",
    "\n",
    "class CNN(nn.Module):\n",
    "    def __init__(self, in_channels, num_classes):\n",
    "        super(CNN, self).__init__()\n",
    "\n",
    "        self.conv1 = nn.Conv2d(in_channels, 8, kernel_size=3, stride=1, padding=1)\n",
    "        self.relu1 = nn.ReLU()\n",
    "        self.pool1 = nn.MaxPool2d(kernel_size=2, stride=2)\n",
    "\n",
    "        self.conv2 = nn.Conv2d(8, 2, kernel_size=3, stride=1, padding=1)\n",
    "        self.relu2 = nn.ReLU()\n",
    "        self.pool2 = nn.MaxPool2d(kernel_size=2, stride=2)\n",
    "\n",
    "        # self.conv3 = nn.Conv2d(4, 128, kernel_size=3, stride=1, padding=1)\n",
    "        # self.relu3 = nn.ReLU()\n",
    "        # self.pool3 = nn.MaxPool2d(kernel_size=2, stride=2)\n",
    "\n",
    "        self.flatten = nn.Flatten()\n",
    "\n",
    "        self.fc1 = nn.Linear(128, 64)\n",
    "        self.relu4 = nn.ReLU()\n",
    "\n",
    "        self.fc2 = nn.Linear(64, 32)\n",
    "        self.relu5 = nn.ReLU()\n",
    "\n",
    "        self.fc3 = nn.Linear(32, 2)\n",
    "\n",
    "    def forward(self, x):\n",
    "        x = self.pool1(self.relu1(self.conv1(x)))\n",
    "        x = self.pool2(self.relu2(self.conv2(x)))\n",
    "        # x = self.pool3(self.relu3(self.conv3(x)))\n",
    "        # print(x.shape)\n",
    "        x = self.flatten(x)\n",
    "        # print(x.shape)\n",
    "        x = self.relu4(self.fc1(x))\n",
    "        x = self.relu5(self.fc2(x))\n",
    "        x = self.fc3(x) \n",
    "\n",
    "        return x"
   ]
  },
  {
   "cell_type": "code",
   "execution_count": 2,
   "metadata": {},
   "outputs": [],
   "source": [
    "import torch\n",
    "import torchvision\n",
    "import torchvision.transforms as transforms\n",
    "import tqdm"
   ]
  },
  {
   "cell_type": "code",
   "execution_count": 6,
   "metadata": {},
   "outputs": [],
   "source": [
    "data_dir = '/home/csgrad/sunilruf/detect_llm/sunil_code/LLM/HumanvsLLM/HumanvsFlan/'"
   ]
  },
  {
   "cell_type": "code",
   "execution_count": 7,
   "metadata": {},
   "outputs": [],
   "source": [
    "transform = transforms.Compose([\n",
    "    transforms.Resize((32, 32)),\n",
    "    transforms.ToTensor(),\n",
    "    transforms.Normalize((0.5, 0.5, 0.5), (0.5, 0.5, 0.5))  # Normalize the images\n",
    "])"
   ]
  },
  {
   "cell_type": "code",
   "execution_count": 9,
   "metadata": {},
   "outputs": [],
   "source": [
    "train_dataset = torchvision.datasets.ImageFolder(root=data_dir + '/train', transform=transform)\n",
    "test_dataset = torchvision.datasets.ImageFolder(root=data_dir + '/test', transform=transform)\n"
   ]
  },
  {
   "cell_type": "code",
   "execution_count": 10,
   "metadata": {},
   "outputs": [],
   "source": [
    "batch_size = 64\n",
    "train_loader = torch.utils.data.DataLoader(train_dataset, batch_size=batch_size, shuffle=True)\n",
    "test_loader = torch.utils.data.DataLoader(test_dataset, batch_size=batch_size, shuffle=False)\n",
    "\n",
    "# Step 3: Define the model\n",
    "device = torch.device('cuda' if torch.cuda.is_available() else 'cpu')\n",
    "model = CNN(in_channels=3, num_classes=2).to(device)"
   ]
  },
  {
   "cell_type": "code",
   "execution_count": 11,
   "metadata": {},
   "outputs": [
    {
     "name": "stdout",
     "output_type": "stream",
     "text": [
      "(['Flan', 'Human'], {'Flan': 0, 'Human': 1})\n"
     ]
    }
   ],
   "source": [
    "print(test_dataset.find_classes(data_dir+'/test'))\n"
   ]
  },
  {
   "cell_type": "code",
   "execution_count": 13,
   "metadata": {},
   "outputs": [
    {
     "name": "stdout",
     "output_type": "stream",
     "text": [
      "Epoch [1/10], Loss: 0.1895\n",
      "Validation Accuracy: 0.9319\n",
      "TP: 6092, FP: 218, TN: 7098, FN: 746\n",
      "Matthews Correlation Coefficient (MCC): 0.8657\n",
      "True Positive Rate (TPR): 0.8909\n",
      "False Positive Rate (FPR): 0.0298\n",
      "Epoch [2/10], Loss: 0.1707\n",
      "Validation Accuracy: 0.9327\n",
      "TP: 6342, FP: 456, TN: 6860, FN: 496\n",
      "Matthews Correlation Coefficient (MCC): 0.8653\n",
      "True Positive Rate (TPR): 0.9275\n",
      "False Positive Rate (FPR): 0.0623\n",
      "Epoch [3/10], Loss: 0.1621\n",
      "Validation Accuracy: 0.9248\n",
      "TP: 5850, FP: 76, TN: 7240, FN: 988\n",
      "Matthews Correlation Coefficient (MCC): 0.8560\n",
      "True Positive Rate (TPR): 0.8555\n",
      "False Positive Rate (FPR): 0.0104\n",
      "Epoch [4/10], Loss: 0.1563\n",
      "Validation Accuracy: 0.9358\n",
      "TP: 6056, FP: 126, TN: 7190, FN: 782\n",
      "Matthews Correlation Coefficient (MCC): 0.8749\n",
      "True Positive Rate (TPR): 0.8856\n",
      "False Positive Rate (FPR): 0.0172\n",
      "Epoch [5/10], Loss: 0.1511\n",
      "Validation Accuracy: 0.9416\n",
      "TP: 6330, FP: 318, TN: 6998, FN: 508\n",
      "Matthews Correlation Coefficient (MCC): 0.8834\n",
      "True Positive Rate (TPR): 0.9257\n",
      "False Positive Rate (FPR): 0.0435\n",
      "Epoch [6/10], Loss: 0.1471\n",
      "Validation Accuracy: 0.9293\n",
      "TP: 5896, FP: 59, TN: 7257, FN: 942\n",
      "Matthews Correlation Coefficient (MCC): 0.8646\n",
      "True Positive Rate (TPR): 0.8622\n",
      "False Positive Rate (FPR): 0.0081\n",
      "Epoch [7/10], Loss: 0.1425\n",
      "Validation Accuracy: 0.9431\n",
      "TP: 6266, FP: 234, TN: 7082, FN: 572\n",
      "Matthews Correlation Coefficient (MCC): 0.8868\n",
      "True Positive Rate (TPR): 0.9163\n",
      "False Positive Rate (FPR): 0.0320\n",
      "Epoch [8/10], Loss: 0.1396\n",
      "Validation Accuracy: 0.9433\n",
      "TP: 6187, FP: 151, TN: 7165, FN: 651\n",
      "Matthews Correlation Coefficient (MCC): 0.8885\n",
      "True Positive Rate (TPR): 0.9048\n",
      "False Positive Rate (FPR): 0.0206\n",
      "Epoch [9/10], Loss: 0.1362\n",
      "Validation Accuracy: 0.9448\n",
      "TP: 6264, FP: 207, TN: 7109, FN: 574\n",
      "Matthews Correlation Coefficient (MCC): 0.8905\n",
      "True Positive Rate (TPR): 0.9161\n",
      "False Positive Rate (FPR): 0.0283\n",
      "Epoch [10/10], Loss: 0.1338\n",
      "Validation Accuracy: 0.9457\n",
      "TP: 6314, FP: 245, TN: 7071, FN: 524\n",
      "Matthews Correlation Coefficient (MCC): 0.8918\n",
      "True Positive Rate (TPR): 0.9234\n",
      "False Positive Rate (FPR): 0.0335\n"
     ]
    }
   ],
   "source": [
    "import math\n",
    "criterion = nn.CrossEntropyLoss()\n",
    "optimizer = optim.Adam(model.parameters(), lr=0.001)\n",
    "\n",
    "# Step 5: Training Loop\n",
    "num_epochs = 10\n",
    "for epoch in range(num_epochs):\n",
    "    model.train()\n",
    "    running_loss = 0.0\n",
    "    for inputs, labels in train_loader:\n",
    "        inputs, labels = inputs.to(device), labels.to(device)\n",
    "        \n",
    "        optimizer.zero_grad()\n",
    "        outputs = model(inputs)\n",
    "        loss = criterion(outputs, labels)\n",
    "        loss.backward()\n",
    "        optimizer.step()\n",
    "        \n",
    "        running_loss += loss.item() * inputs.size(0)\n",
    "    \n",
    "    epoch_loss = running_loss / len(train_loader.dataset)\n",
    "    print(f'Epoch [{epoch+1}/{num_epochs}], Loss: {epoch_loss:.4f}')\n",
    "    \n",
    "    # Validation\n",
    "    model.eval()\n",
    "    correct = 0\n",
    "    total = 0\n",
    "    TP = 0\n",
    "    FP = 0\n",
    "    TN = 0\n",
    "    FN = 0\n",
    "    with torch.no_grad():\n",
    "        for inputs, labels in test_loader:\n",
    "            inputs, labels = inputs.to(device), labels.to(device)\n",
    "            outputs = model(inputs)\n",
    "            predicted = torch.argmax(outputs, 1)\n",
    "            TP += ((predicted == 1) & (labels == 1)).sum().item()\n",
    "            FP += ((predicted == 1) & (labels == 0)).sum().item()\n",
    "            TN += ((predicted == 0) & (labels == 0)).sum().item()\n",
    "            FN += ((predicted == 0) & (labels == 1)).sum().item()\n",
    "            \n",
    "            total += labels.size(0)\n",
    "            #print(labels, predicted)\n",
    "            correct += (predicted == labels).sum().item()\n",
    "    \n",
    "    val_accuracy = correct / total\n",
    "    MCC = (TP * TN - FP * FN) / math.sqrt((TP + FP) * (TP + FN) * (TN + FP) * (TN + FN))\n",
    "\n",
    "    TPR = TP / (TP + FN)\n",
    "    FPR = FP / (FP + TN)\n",
    "    print(f'Validation Accuracy: {val_accuracy:.4f}')\n",
    "    print(f'TP: {TP}, FP: {FP}, TN: {TN}, FN: {FN}')\n",
    "    print(f'Matthews Correlation Coefficient (MCC): {MCC:.4f}')\n",
    "    print(f'True Positive Rate (TPR): {TPR:.4f}')\n",
    "    print(f'False Positive Rate (FPR): {FPR:.4f}')\n",
    "\n"
   ]
  },
  {
   "cell_type": "code",
   "execution_count": 14,
   "metadata": {},
   "outputs": [],
   "source": [
    "import torch\n",
    "import torchvision.models as models\n",
    "\n",
    "model_path = \"/home/csgrad/sunilruf/detect_llm/sunil_code/LLM/model/flan_model.pth\"\n",
    "\n",
    "torch.save(model.state_dict(), model_path)\n"
   ]
  },
  {
   "cell_type": "code",
   "execution_count": null,
   "metadata": {},
   "outputs": [],
   "source": []
  }
 ],
 "metadata": {
  "kernelspec": {
   "display_name": "bio3",
   "language": "python",
   "name": "python3"
  },
  "language_info": {
   "codemirror_mode": {
    "name": "ipython",
    "version": 3
   },
   "file_extension": ".py",
   "mimetype": "text/x-python",
   "name": "python",
   "nbconvert_exporter": "python",
   "pygments_lexer": "ipython3",
   "version": "3.11.3"
  }
 },
 "nbformat": 4,
 "nbformat_minor": 2
}
